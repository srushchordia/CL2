{
 "cells": [
  {
   "cell_type": "code",
   "execution_count": null,
   "id": "741f7265-60f4-41ff-a45e-ac3006c8b4f5",
   "metadata": {},
   "outputs": [],
   "source": [
    "import pandas as pd\n",
    "from pgmpy.models import BayesianNetwork\n",
    "from pgmpy.estimators import BayesianEstimator\n",
    "from pgmpy.inference import VariableElimination\n",
    "\n",
    "data = pd.read_csv(r\"C:\\Users\\Admin\\Desktop\\SRUSHTI IMPORTANT\\heart_cleveland_upload.csv\")\n",
    "\n",
    "model = BayesianNetwork([\n",
    "    ('age', 'condition'),\n",
    "    ('sex', 'condition'),\n",
    "    ('cp', 'condition'),\n",
    "    ('trestbps', 'condition'),\n",
    "    ('chol', 'condition')\n",
    "])\n",
    "\n",
    "model.fit(data, estimator=BayesianEstimator, prior_type=\"BDeu\")\n",
    "HeartDisease_infer = VariableElimination(model)\n",
    "\n",
    "q1 = HeartDisease_infer.query(variables=['condition'], evidence={'cp': 0})\n",
    "print(\"CP\",q1)\n",
    "\n",
    "q2 = HeartDisease_infer.query(variables=['condition'], evidence={'trestbps': 160})\n",
    "print(\"TRESTBPS\",q2)\n",
    "\n",
    "q3 = HeartDisease_infer.query(variables=['condition'], evidence={'age': 69})\n",
    "print(\"AGE\",q3)\n",
    "\n",
    "q4 = HeartDisease_infer.query(variables=['condition'], evidence={'chol': 243})\n",
    "print(\"CHOL\",q4)"
   ]
  }
 ],
 "metadata": {
  "kernelspec": {
   "display_name": "Python 3 (ipykernel)",
   "language": "python",
   "name": "python3"
  },
  "language_info": {
   "codemirror_mode": {
    "name": "ipython",
    "version": 3
   },
   "file_extension": ".py",
   "mimetype": "text/x-python",
   "name": "python",
   "nbconvert_exporter": "python",
   "pygments_lexer": "ipython3",
   "version": "3.12.4"
  }
 },
 "nbformat": 4,
 "nbformat_minor": 5
}

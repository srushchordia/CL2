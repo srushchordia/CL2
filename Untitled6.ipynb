{
 "cells": [
  {
   "cell_type": "code",
   "execution_count": null,
   "id": "aa13ee4d-a4dd-4b1f-8539-244e5147744a",
   "metadata": {},
   "outputs": [],
   "source": [
    "from collections import defaultdict\n",
    "import re\n",
    "\n",
    "# Sample documents\n",
    "documents = {\n",
    "    1: \"The quick brown fox jumps over the lazy dog.\",\n",
    "    2: \"Never jump over the lazy dog quickly.\",\n",
    "    3: \"A fast-moving fox is better than a slow dog.\"\n",
    "}\n",
    "\n",
    "# Build the inverted index\n",
    "index = defaultdict(set)\n",
    "for doc_id, text in documents.items():\n",
    "    for word in re.findall(r'\\w+', text.lower()):\n",
    "        index[word].add(doc_id)\n",
    "\n",
    "# Search for query in the inverted index\n",
    "query = input(\"Enter search query: \")\n",
    "words = query.lower().split()\n",
    "result = set.intersection(*(index.get(word, set()) for word in words))\n",
    "\n",
    "# Print matching documents\n",
    "print(\"Matching documents:\", sorted(result) if result else \"No match found\")\n"
   ]
  }
 ],
 "metadata": {
  "kernelspec": {
   "display_name": "Python 3 (ipykernel)",
   "language": "python",
   "name": "python3"
  },
  "language_info": {
   "codemirror_mode": {
    "name": "ipython",
    "version": 3
   },
   "file_extension": ".py",
   "mimetype": "text/x-python",
   "name": "python",
   "nbconvert_exporter": "python",
   "pygments_lexer": "ipython3",
   "version": "3.12.4"
  }
 },
 "nbformat": 4,
 "nbformat_minor": 5
}

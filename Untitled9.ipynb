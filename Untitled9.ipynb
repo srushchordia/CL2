{
 "cells": [
  {
   "cell_type": "code",
   "execution_count": null,
   "id": "91595a47-c0c0-4123-8f59-500bb4ddff3b",
   "metadata": {},
   "outputs": [],
   "source": [
    "# IR Practical : 5 Implement Agglomerative hierarchical clustering algorithm using appropriate dataset.\n",
    "import numpy as np\n",
    "import matplotlib.pyplot as plt\n",
    "from sklearn.datasets import load_iris\n",
    "from sklearn.cluster import AgglomerativeClustering\n",
    "from sklearn.preprocessing import StandardScaler\n",
    "from scipy.cluster.hierarchy import dendrogram, linkage\n",
    "from sklearn.decomposition import PCA\n",
    "\n",
    "iris = load_iris()\n",
    "X = iris.data\n",
    "y = iris.target\n",
    "\n",
    "scaler = StandardScaler()\n",
    "X_scaled = scaler.fit_transform(X)\n",
    "\n",
    "pca = PCA(n_components=2)\n",
    "X_pca = pca.fit_transform(X_scaled)\n",
    "\n",
    "n_clusters = 3\n",
    "agg_clustering = AgglomerativeClustering(n_clusters=n_clusters, linkage='ward')\n",
    "cluster_labels = agg_clustering.fit_predict(X_pca)\n",
    "\n",
    "linked = linkage(X_pca, 'ward')\n",
    "plt.figure(figsize=(12, 6))\n",
    "dendrogram(linked, orientation='top', distance_sort='descending', show_leaf_counts=2)\n",
    "plt.title('Dendrogram')\n",
    "plt.xlabel('Cluster Size')\n",
    "plt.ylabel('Distance')\n",
    "plt.show()\n",
    "\n",
    "print(\"Cluster Labels:\")\n",
    "print(cluster_labels)\n",
    "\n",
    "plt.scatter(X_pca[:, 0], X_pca[:, 1], c=cluster_labels, cmap='rainbow')\n",
    "plt.xlabel('Principal Component 1')\n",
    "plt.ylabel('Principal Component 2')\n",
    "plt.title('Agglomerative Hierarchical Clustering')\n",
    "plt.show()"
   ]
  }
 ],
 "metadata": {
  "kernelspec": {
   "display_name": "Python 3 (ipykernel)",
   "language": "python",
   "name": "python3"
  },
  "language_info": {
   "codemirror_mode": {
    "name": "ipython",
    "version": 3
   },
   "file_extension": ".py",
   "mimetype": "text/x-python",
   "name": "python",
   "nbconvert_exporter": "python",
   "pygments_lexer": "ipython3",
   "version": "3.12.4"
  }
 },
 "nbformat": 4,
 "nbformat_minor": 5
}
